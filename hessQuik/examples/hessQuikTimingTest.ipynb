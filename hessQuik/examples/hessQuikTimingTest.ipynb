{
  "nbformat": 4,
  "nbformat_minor": 0,
  "metadata": {
    "colab": {
      "name": "hessQuikTimingTest.ipynb",
      "provenance": [],
      "collapsed_sections": [
        "dTJHSeqAa7dN",
        "nlzybqxCbXei"
      ],
      "machine_shape": "hm"
    },
    "kernelspec": {
      "name": "python3",
      "display_name": "Python 3"
    },
    "language_info": {
      "name": "python"
    }
  },
  "cells": [
    {
      "cell_type": "markdown",
      "source": [
        "## hessQuik Timing Tests\n",
        "\n",
        "In this notebook, we provide the timing tests used in our paper.  To run the tests on a GPU, you must change the runtime type.  See [Making the Most of your Colab Subscription](https://colab.research.google.com/?utm_source=scs-index) for further details."
      ],
      "metadata": {
        "id": "wk0m-waGag4r"
      }
    },
    {
      "cell_type": "markdown",
      "source": [
        "## Colab Computing Resources Info\n",
        "Optional printouts"
      ],
      "metadata": {
        "id": "dTJHSeqAa7dN"
      }
    },
    {
      "cell_type": "markdown",
      "source": [
        "CPU info"
      ],
      "metadata": {
        "id": "i-M7vKs7UfIO"
      }
    },
    {
      "cell_type": "code",
      "source": [
        "# disk information\n",
        "!df -h\n",
        "\n",
        "# CPU specs\n",
        "!cat /proc/cpuinfo\n",
        "\n",
        "# CPU memory\n",
        "!cat /proc/meminfo"
      ],
      "metadata": {
        "id": "EuCkx7DtbD51"
      },
      "execution_count": null,
      "outputs": []
    },
    {
      "cell_type": "markdown",
      "source": [
        "GPU info"
      ],
      "metadata": {
        "id": "56hM0aVyUdmv"
      }
    },
    {
      "cell_type": "code",
      "source": [
        "gpu_info = !nvidia-smi\n",
        "gpu_info = '\\n'.join(gpu_info)\n",
        "if gpu_info.find('failed') >= 0:\n",
        "  print('Not connected to a GPU')\n",
        "else:\n",
        "  print(gpu_info)\n",
        "  !nvidia-smi -L"
      ],
      "metadata": {
        "id": "MYh7e2mEUEOM"
      },
      "execution_count": null,
      "outputs": []
    },
    {
      "cell_type": "markdown",
      "source": [
        "Virtual memory"
      ],
      "metadata": {
        "id": "RxhAcc2wUcAO"
      }
    },
    {
      "cell_type": "code",
      "source": [
        "from psutil import virtual_memory\n",
        "ram_gb = virtual_memory().total / 1e9\n",
        "print('Your runtime has {:.1f} gigabytes of available RAM\\n'.format(ram_gb))\n",
        "\n",
        "if ram_gb < 20:\n",
        "  print('Not using a high-RAM runtime')\n",
        "else:\n",
        "  print('You are using a high-RAM runtime!')"
      ],
      "metadata": {
        "id": "iXcag3YsUIVB"
      },
      "execution_count": null,
      "outputs": []
    },
    {
      "cell_type": "markdown",
      "source": [
        "## Clone and Install hessQuik \n",
        "\n",
        "To run and save the timing results, clone the hessQuik repository first.  The repository only needs to be cloned once per runtime."
      ],
      "metadata": {
        "id": "nlzybqxCbXei"
      }
    },
    {
      "cell_type": "code",
      "source": [
        "%cd ~\n",
        "%cd ../content/\n",
        "\n",
        "!git clone https://github.com/elizabethnewman/hessQuik.git"
      ],
      "metadata": {
        "id": "Cgjf2psZNlpT"
      },
      "execution_count": null,
      "outputs": []
    },
    {
      "cell_type": "markdown",
      "source": [
        "Install hessQuik for current runtime."
      ],
      "metadata": {
        "id": "KhafW_38TA8I"
      }
    },
    {
      "cell_type": "code",
      "execution_count": null,
      "metadata": {
        "id": "fZYOLejCCO1k"
      },
      "outputs": [],
      "source": [
        "%cd ~\n",
        "%cd ../content/hessQuik/\n",
        "\n",
        "!git pull\n",
        "!python -m pip install git+https://github.com/elizabethnewman/hessQuik.git\n",
        "\n",
        "# run code from examples folder\n",
        "%cd hessQuik/examples/"
      ]
    },
    {
      "cell_type": "markdown",
      "source": [
        "## Setup Parameters for Experiments\n",
        "\n",
        "There are many available parameters for the timing experients.  We provide the options used in the paper here.  To find all options, see the run_timing_test.py script in the examples folder."
      ],
      "metadata": {
        "id": "xdw1HhQQOhNp"
      }
    },
    {
      "cell_type": "code",
      "source": [
        "num_input = 11            # powers of 2 from 2^0 to 2^(num_input - 1)\n",
        "num_examples = 10         # number of examples/samples\n",
        "num_trials = 10           # number of trials\n",
        "num_threads = 1           # number of computational threads\n",
        "network_type = 'resnet'   # network architecture\n",
        "\n",
        "\n",
        "# store flags\n",
        "flags = ' --num-input ' + str(num_input)\n",
        "flags += ' --num-examples ' + str(num_examples) \n",
        "flags += ' --num-trials ' + str(num_trials)\n",
        "flags += ' --num-threads ' + str(num_threads)\n",
        "flags += ' --network-type ' + network_type\n",
        "\n",
        "# store scalar flags\n",
        "num_output = 1            # powers of 2 from 2^0 to 2^(num_output - 1)\n",
        "flags_scalar = flags + ' --num-output ' + str(num_output) \n",
        "\n",
        "# store vector flags\n",
        "num_output = 4            # powers of 2 from 2^0 to 2^(num_output - 1)\n",
        "flags_vector = flags + ' --num-output ' + str(num_output) \n"
      ],
      "metadata": {
        "id": "hHQJEaDaM3bS"
      },
      "execution_count": null,
      "outputs": []
    },
    {
      "cell_type": "markdown",
      "source": [
        "## Tests\n",
        "\n",
        "We present three different tests: hessQuik, PytorchAD, and PytorchHessian."
      ],
      "metadata": {
        "id": "rSQ9J49JbhRa"
      }
    },
    {
      "cell_type": "markdown",
      "source": [
        "### hessQuik\n",
        "\n",
        "This is our AD-free code to compute gradients and Hessians of a feed forward network with respect to the inputs."
      ],
      "metadata": {
        "id": "Z1fQZ745bjc1"
      }
    },
    {
      "cell_type": "code",
      "source": [
        "# hessQuik - scalar output\n",
        "!python run_timing_test.py $flags_scalar --network-wrapper hessQuik --verbose --save"
      ],
      "metadata": {
        "id": "zrTfMUPMJFT2"
      },
      "execution_count": null,
      "outputs": []
    },
    {
      "cell_type": "code",
      "source": [
        "# hessQuik - vector output\n",
        "!python run_timing_test.py $flags_vector --network-wrapper hessQuik --verbose --save"
      ],
      "metadata": {
        "id": "djMwqzHoAnr6"
      },
      "execution_count": null,
      "outputs": []
    },
    {
      "cell_type": "markdown",
      "source": [
        "### PytorchAD\n",
        "This uses PyTorch's AD to compute gradients and Hessians.  Our implementation follows that of [CP-Flow](https://github.com/CW-Huang/CP-Flow)."
      ],
      "metadata": {
        "id": "HiPtHxtZblni"
      }
    },
    {
      "cell_type": "code",
      "source": [
        "# PytorchAD - scalar output\n",
        "!python run_timing_test.py $flags_scalar --network-wrapper PytorchAD --verbose --save"
      ],
      "metadata": {
        "id": "eDX2lPGYO9ty"
      },
      "execution_count": null,
      "outputs": []
    },
    {
      "cell_type": "code",
      "source": [
        "# PytorchAD - vector output\n",
        "!python run_timing_test.py $flags_vector --network-wrapper PytorchAD --verbose --save"
      ],
      "metadata": {
        "id": "WIlO1DibAwYX"
      },
      "execution_count": null,
      "outputs": []
    },
    {
      "cell_type": "markdown",
      "source": [
        "### PytorchHessian\n",
        "This test uses PyTorch's built-in [Hessian function](https://pytorch.org/docs/stable/generated/torch.autograd.functional.hessian.html) to compute the Hessian of the network with respect to the inputs.  Currently, our implementation is only available for scalar outputs."
      ],
      "metadata": {
        "id": "kDlSwzPCboW8"
      }
    },
    {
      "cell_type": "code",
      "source": [
        "# PytorchHessian (only for scalar outputs (num_output = 1))\n",
        "!python run_timing_test.py $flags_scalar --network-wrapper PytorchHessian --verbose --save"
      ],
      "metadata": {
        "id": "DQ2m2-FvPGtT"
      },
      "execution_count": null,
      "outputs": []
    },
    {
      "cell_type": "markdown",
      "source": [
        "## Create Plots"
      ],
      "metadata": {
        "id": "tRRQ0ZYDbw8M"
      }
    },
    {
      "cell_type": "code",
      "source": [
        "%cd ~\n",
        "%cd ../content/\n",
        "\n",
        "import torch\n",
        "device = 'cuda' if torch.cuda.is_available() else 'cpu'\n",
        "\n",
        "from datetime import datetime\n",
        "now = datetime.now()\n",
        "date = now.strftime(\"%m-%d-%Y--\")\n",
        "\n",
        "# save results\n",
        "filename = date + device + '.zip'\n",
        "!zip -r $filename hessQuik/hessQuik/examples/results/"
      ],
      "metadata": {
        "id": "2ioGAFWzV5vy"
      },
      "execution_count": null,
      "outputs": []
    },
    {
      "cell_type": "code",
      "source": [
        "%cd ~\n",
        "%cd ../content/\n",
        "%cd hessQuik/hessQuik/examples/results/\n",
        "\n",
        "\n",
        "import matplotlib.pyplot as plt\n",
        "import pickle\n",
        "import numpy as np\n",
        "import torch\n",
        "from datetime import datetime\n",
        "\n",
        "# plot parameters\n",
        "plt.rcParams.update({'font.size': 16})\n",
        "plt.rcParams.update({'image.interpolation': None})\n",
        "plt.rcParams['figure.figsize'] = [7, 6]\n",
        "plt.rcParams['figure.dpi'] = 100\n",
        "\n",
        "\n",
        "names = ['hessQuik', 'PytorchAD', 'PytorchHessian']\n",
        "markers = ['o', '^', 's']\n",
        "linewidth = 3\n",
        "markersize = 10\n",
        "device = 'cuda' if torch.cuda.is_available() else 'cpu'\n",
        "now = datetime.now()\n",
        "date = now.strftime(\"%m-%d-%Y--\")\n",
        "\n",
        "plt.figure()\n",
        "for i, name in enumerate(names):\n",
        "\n",
        "    output = pickle.load(open(date + name + '-resnet-' + device + '-w16-d4-out1.p', 'rb'))\n",
        "    results = output['results']\n",
        "\n",
        "    x = results['in_feature_range']\n",
        "    y = results['timing_trials_mean'].squeeze()\n",
        "\n",
        "    if device == 'cpu':\n",
        "      linestyle = '-'\n",
        "    else:\n",
        "      linestyle = '--'\n",
        "\n",
        "    plt.loglog(x, y, linestyle + markers[i], basex=2, linewidth=linewidth, markersize=markersize, label=name + ': cuda')\n",
        "\n",
        "plt.xlabel('in features')\n",
        "plt.ylabel('time (seconds)')\n",
        "plt.grid()\n",
        "plt.ylim(1e-3, 2e1)\n",
        "plt.legend()\n",
        "plt.show()"
      ],
      "metadata": {
        "id": "2EecmeiHByJU"
      },
      "execution_count": null,
      "outputs": []
    },
    {
      "cell_type": "code",
      "source": [
        "import matplotlib.pyplot as plt\n",
        "import matplotlib.colors as colors\n",
        "import numpy as np\n",
        "import torch\n",
        "from datetime import datetime\n",
        "\n",
        "names = ['hessQuik', 'PytorchAD']\n",
        "device = 'cuda' if torch.cuda.is_available() else 'cpu'\n",
        "now = datetime.now()\n",
        "date = now.strftime(\"%m-%d-%Y--\")\n",
        "\n",
        "fig, axes = plt.subplots(nrows=1, ncols=2);\n",
        "for i, name in enumerate(names):\n",
        "\n",
        "    output = pickle.load(open(date + name + '-resnet-' + device + '-w16-d4-out4.p', 'rb'))\n",
        "    results = output['results']\n",
        "    timing_trials_mean = results['timing_trials_mean']\n",
        "    in_feature_range = results['in_feature_range']\n",
        "    out_feature_range = results['out_feature_range']\n",
        "\n",
        "    im = axes[i].imshow(torch.flipud(timing_trials_mean), norm=colors.LogNorm(vmin=1e-3, vmax=1e2))\n",
        "\n",
        "    # local subplot info\n",
        "    plt.sca(axes[i])\n",
        "    plt.xticks(list(torch.arange(len(out_feature_range)).numpy()), out_feature_range)\n",
        "\n",
        "    if i == 0:\n",
        "        plt.yticks(list(torch.arange(len(in_feature_range)).numpy()), list(np.flip(in_feature_range)))\n",
        "    else:\n",
        "        plt.tick_params(axis='y', left=False, right=False, labelleft=False)\n",
        "\n",
        "    plt.title(name + ': ' + device)\n",
        "\n",
        "\n",
        "fig.subplots_adjust(right=0.8)\n",
        "cbar_ax = fig.add_axes([0.85, 0.27, 0.02, 0.45])\n",
        "fig.colorbar(im, cax=cbar_ax)\n",
        "fig.text(0.02, 0.5, 'input features', va='center', rotation='vertical')\n",
        "fig.text(0.5, 0.02, 'output features', ha='center')\n",
        "plt.show()\n",
        "\n"
      ],
      "metadata": {
        "id": "R0S-hYXQEhCV"
      },
      "execution_count": null,
      "outputs": []
    }
  ]
}