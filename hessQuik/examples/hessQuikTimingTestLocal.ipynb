{
 "cells": [
  {
   "cell_type": "markdown",
   "metadata": {
    "collapsed": true,
    "pycharm": {
     "name": "#%% md\n"
    }
   },
   "source": [
    "## hessQuik Timing Tests Local\n",
    "\n",
    "In this notebook, we provide the code from our paper to run and compare the timings locally."
   ]
  },
  {
   "cell_type": "code",
   "source": [
    "import os, sys\n",
    "cwd = os.getcwd()\n",
    "os.chdir(sys.path[0])\n",
    "\n",
    "!pwd\n"
   ],
   "metadata": {
    "collapsed": false,
    "pycharm": {
     "name": "#%%\n"
    }
   },
   "execution_count": 43,
   "outputs": [
    {
     "name": "stdout",
     "output_type": "stream",
     "text": [
      "/Users/elizabethnewman/Desktop/hessQuik/hessQuik/examples\r\n"
     ]
    }
   ]
  },
  {
   "cell_type": "markdown",
   "source": [
    "## Setup Parameters for Experiments\n",
    "\n",
    "There are many available parameters for the timing experiments.  We provide the options used in the paper here.  To find all options, see the run_timing_test.py script in the examples folder."
   ],
   "metadata": {
    "collapsed": false
   }
  },
  {
   "cell_type": "code",
   "execution_count": 44,
   "outputs": [],
   "source": [
    "num_input = 11            # powers of 2 from 2^0 to 2^(num_input - 1)\n",
    "num_examples = 10         # number of examples/samples\n",
    "num_trials = 10           # number of trials\n",
    "num_threads = 1           # number of computational threads\n",
    "network_type = 'resnet'   # network architecture\n",
    "\n",
    "\n",
    "# store flags\n",
    "flags = ' --num-input ' + str(num_input)\n",
    "flags += ' --num-examples ' + str(num_examples)\n",
    "flags += ' --num-trials ' + str(num_trials)\n",
    "flags += ' --num-threads ' + str(num_threads)\n",
    "flags += ' --network-type ' + network_type\n",
    "\n",
    "# store scalar flags\n",
    "num_output = 1            # powers of 2 from 2^0 to 2^(num_output - 1)\n",
    "flags_scalar = flags + ' --num-output ' + str(num_output)\n",
    "\n",
    "# store vector flags\n",
    "num_output = 4            # powers of 2 from 2^0 to 2^(num_output - 1)\n",
    "flags_vector = flags + ' --num-output ' + str(num_output)"
   ],
   "metadata": {
    "collapsed": false,
    "pycharm": {
     "name": "#%%\n"
    }
   }
  },
  {
   "cell_type": "markdown",
   "source": [
    "## Tests\n",
    "\n",
    "We present three different tests: hessQuik, PytorchAD, and PytorchHessian."
   ],
   "metadata": {
    "collapsed": false
   }
  },
  {
   "cell_type": "markdown",
   "source": [
    "### hessQuik\n",
    "\n",
    "This is our AD-free code to compute gradients and Hessians of a feed forward network with respect to the inputs."
   ],
   "metadata": {
    "collapsed": false
   }
  },
  {
   "cell_type": "code",
   "execution_count": 45,
   "outputs": [
    {
     "name": "stdout",
     "output_type": "stream",
     "text": [
      "Namespace(num_input=3, num_output=1, num_examples=10, num_trials=10, num_threads=1, seed=42, width=16, depth=4, network_type='resnet', network_wrapper='hessQuik', save=True, verbose=True)\r\n",
      "number of computational threads: 1\r\n",
      "03-08-2022-hessQuik-resnet-cpu-w16-d4-out1\r\n",
      "in_feature_range:  [1, 2, 4]\r\n",
      "out_feature_range:  [1]\r\n",
      "size of mean timing:  torch.Size([3, 1])\r\n",
      "mean timing (in features x out_features):\r\n",
      " tensor([[0.0021],\r\n",
      "        [0.0020],\r\n",
      "        [0.0019]])\r\n"
     ]
    }
   ],
   "source": [
    "# hessQuik - scalar output\n",
    "!python run_timing_test.py $flags_scalar --network-wrapper hessQuik --verbose --save"
   ],
   "metadata": {
    "collapsed": false,
    "pycharm": {
     "name": "#%%\n"
    }
   }
  },
  {
   "cell_type": "code",
   "execution_count": 46,
   "outputs": [
    {
     "name": "stdout",
     "output_type": "stream",
     "text": [
      "Namespace(num_input=3, num_output=4, num_examples=10, num_trials=10, num_threads=1, seed=42, width=16, depth=4, network_type='resnet', network_wrapper='hessQuik', save=True, verbose=True)\r\n",
      "number of computational threads: 1\r\n",
      "03-08-2022-hessQuik-resnet-cpu-w16-d4-out4\r\n",
      "in_feature_range:  [1, 2, 4]\r\n",
      "out_feature_range:  [1, 2, 4, 8]\r\n",
      "size of mean timing:  torch.Size([3, 4])\r\n",
      "mean timing (in features x out_features):\r\n",
      " tensor([[0.0022, 0.0020, 0.0023, 0.0022],\r\n",
      "        [0.0020, 0.0021, 0.0022, 0.0025],\r\n",
      "        [0.0020, 0.0024, 0.0029, 0.0027]])\r\n"
     ]
    }
   ],
   "source": [
    "# hessQuik - vector output\n",
    "!python run_timing_test.py $flags_vector --network-wrapper hessQuik --verbose --save"
   ],
   "metadata": {
    "collapsed": false,
    "pycharm": {
     "name": "#%%\n"
    }
   }
  },
  {
   "cell_type": "markdown",
   "source": [
    "### PytorchAD\n",
    "This uses PyTorch's AD to compute gradients and Hessians.  Our implementation follows that of [CP-Flow](https://github.com/CW-Huang/CP-Flow)."
   ],
   "metadata": {
    "collapsed": false
   }
  },
  {
   "cell_type": "code",
   "execution_count": 47,
   "outputs": [
    {
     "name": "stdout",
     "output_type": "stream",
     "text": [
      "Namespace(num_input=3, num_output=1, num_examples=10, num_trials=10, num_threads=1, seed=42, width=16, depth=4, network_type='resnet', network_wrapper='PytorchAD', save=True, verbose=True)\r\n",
      "number of computational threads: 1\r\n",
      "03-08-2022-PytorchAD-resnet-cpu-w16-d4-out1\r\n",
      "in_feature_range:  [1, 2, 4]\r\n",
      "out_feature_range:  [1]\r\n",
      "size of mean timing:  torch.Size([3, 1])\r\n",
      "mean timing (in features x out_features):\r\n",
      " tensor([[0.0015],\r\n",
      "        [0.0022],\r\n",
      "        [0.0036]])\r\n"
     ]
    }
   ],
   "source": [
    "# PytorchAD - scalar output\n",
    "!python run_timing_test.py $flags_scalar --network-wrapper PytorchAD --verbose --save"
   ],
   "metadata": {
    "collapsed": false,
    "pycharm": {
     "name": "#%%\n"
    }
   }
  },
  {
   "cell_type": "code",
   "execution_count": 48,
   "outputs": [
    {
     "name": "stdout",
     "output_type": "stream",
     "text": [
      "Namespace(num_input=3, num_output=4, num_examples=10, num_trials=10, num_threads=1, seed=42, width=16, depth=4, network_type='resnet', network_wrapper='PytorchAD', save=True, verbose=True)\r\n",
      "number of computational threads: 1\r\n",
      "03-08-2022-PytorchAD-resnet-cpu-w16-d4-out4\r\n",
      "in_feature_range:  [1, 2, 4]\r\n",
      "out_feature_range:  [1, 2, 4, 8]\r\n",
      "size of mean timing:  torch.Size([3, 4])\r\n",
      "mean timing (in features x out_features):\r\n",
      " tensor([[0.0014, 0.0030, 0.0084, 0.0294],\r\n",
      "        [0.0021, 0.0051, 0.0156, 0.0554],\r\n",
      "        [0.0033, 0.0096, 0.0335, 0.1079]])\r\n"
     ]
    }
   ],
   "source": [
    "# PytorchAD - vector output\n",
    "!python run_timing_test.py $flags_vector --network-wrapper PytorchAD --verbose --save"
   ],
   "metadata": {
    "collapsed": false,
    "pycharm": {
     "name": "#%%\n"
    }
   }
  },
  {
   "cell_type": "markdown",
   "source": [
    "### PytorchHessian\n",
    "This test uses PyTorch's built-in [Hessian function](https://pytorch.org/docs/stable/generated/torch.autograd.functional.hessian.html) to compute the Hessian of the network with respect to the inputs.  Currently, our implementation is only available for scalar outputs."
   ],
   "metadata": {
    "collapsed": false
   }
  },
  {
   "cell_type": "code",
   "execution_count": 49,
   "outputs": [
    {
     "name": "stdout",
     "output_type": "stream",
     "text": [
      "Namespace(num_input=3, num_output=1, num_examples=10, num_trials=10, num_threads=1, seed=42, width=16, depth=4, network_type='resnet', network_wrapper='PytorchHessian', save=True, verbose=True)\r\n",
      "number of computational threads: 1\r\n",
      "03-08-2022-PytorchHessian-resnet-cpu-w16-d4-out1\r\n",
      "in_feature_range:  [1, 2, 4]\r\n",
      "out_feature_range:  [1]\r\n",
      "size of mean timing:  torch.Size([3, 1])\r\n",
      "mean timing (in features x out_features):\r\n",
      " tensor([[0.0066],\r\n",
      "        [0.0103],\r\n",
      "        [0.0203]])\r\n"
     ]
    }
   ],
   "source": [
    "# PytorchHessian (only for scalar outputs (num_output = 1))\n",
    "!python run_timing_test.py $flags_scalar --network-wrapper PytorchHessian --verbose --save"
   ],
   "metadata": {
    "collapsed": false,
    "pycharm": {
     "name": "#%%\n"
    }
   }
  },
  {
   "cell_type": "code",
   "execution_count": 50,
   "outputs": [
    {
     "name": "stdout",
     "output_type": "stream",
     "text": [
      "cpu\n"
     ]
    },
    {
     "data": {
      "text/plain": "<Figure size 700x600 with 1 Axes>",
      "image/png": "[encoded data removed]"
     },
     "metadata": {
      "needs_background": "light"
     },
     "output_type": "display_data"
    }
   ],
   "source": [
    "\n",
    "import matplotlib.pyplot as plt\n",
    "import pickle\n",
    "import numpy as np\n",
    "import torch\n",
    "from datetime import datetime\n",
    "\n",
    "# plot parameters\n",
    "plt.rcParams.update({'font.size': 16})\n",
    "plt.rcParams.update({'image.interpolation': None})\n",
    "plt.rcParams['figure.figsize'] = [7, 6]\n",
    "plt.rcParams['figure.dpi'] = 100\n",
    "\n",
    "\n",
    "names = ['hessQuik', 'PytorchAD', 'PytorchHessian']\n",
    "markers = ['o', '^', 's']\n",
    "linewidth = 3\n",
    "markersize = 10\n",
    "device = 'cuda' if torch.cuda.is_available() else 'cpu'\n",
    "print(device)\n",
    "now = datetime.now()\n",
    "date = now.strftime(\"%m-%d-%Y--\")\n",
    "\n",
    "plt.figure()\n",
    "for i, name in enumerate(names):\n",
    "\n",
    "    output = pickle.load(open('results/' + date + name + '-resnet-' + device + '-w16-d4-out1.p', 'rb'))\n",
    "    results = output['results']\n",
    "\n",
    "    x = results['in_feature_range']\n",
    "    y = results['timing_trials_mean'].squeeze()\n",
    "\n",
    "    if device == 'cpu':\n",
    "      linestyle = '-'\n",
    "    else:\n",
    "      linestyle = '--'\n",
    "\n",
    "    plt.loglog(x, y, linestyle + markers[i], linewidth=linewidth, markersize=markersize, label=name + ': ' + device)\n",
    "\n",
    "plt.xlabel('in features')\n",
    "plt.ylabel('time (seconds)')\n",
    "plt.xscale('symlog', base=2)\n",
    "plt.grid()\n",
    "plt.ylim(1e-3, 2e1)\n",
    "plt.legend()\n",
    "plt.show()"
   ],
   "metadata": {
    "collapsed": false,
    "pycharm": {
     "name": "#%%\n"
    }
   }
  },
  {
   "cell_type": "code",
   "execution_count": 51,
   "outputs": [
    {
     "data": {
      "text/plain": "<Figure size 700x600 with 3 Axes>",
      "image/png": "[encoded data removed]"
     },
     "metadata": {
      "needs_background": "light"
     },
     "output_type": "display_data"
    }
   ],
   "source": [
    "import matplotlib.pyplot as plt\n",
    "import matplotlib.colors as colors\n",
    "import numpy as np\n",
    "import torch\n",
    "from datetime import datetime\n",
    "\n",
    "names = ['hessQuik', 'PytorchAD']\n",
    "device = 'cuda' if torch.cuda.is_available() else 'cpu'\n",
    "now = datetime.now()\n",
    "date = now.strftime(\"%m-%d-%Y--\")\n",
    "\n",
    "fig, axes = plt.subplots(nrows=1, ncols=2);\n",
    "for i, name in enumerate(names):\n",
    "\n",
    "    output = pickle.load(open('results/' + date + name + '-resnet-' + device + '-w16-d4-out' + str(num_output) + '.p', 'rb'))\n",
    "    results = output['results']\n",
    "    timing_trials_mean = results['timing_trials_mean']\n",
    "    in_feature_range = results['in_feature_range']\n",
    "    out_feature_range = results['out_feature_range']\n",
    "\n",
    "    im = axes[i].imshow(torch.flipud(timing_trials_mean), norm=colors.LogNorm(vmin=1e-3, vmax=1e2))\n",
    "\n",
    "    # local subplot info\n",
    "    plt.sca(axes[i])\n",
    "    plt.xticks(list(torch.arange(len(out_feature_range)).numpy()), out_feature_range)\n",
    "\n",
    "    if i == 0:\n",
    "        plt.yticks(list(torch.arange(len(in_feature_range)).numpy()), list(np.flip(in_feature_range)))\n",
    "    else:\n",
    "        plt.tick_params(axis='y', left=False, right=False, labelleft=False)\n",
    "\n",
    "    plt.title(name + ': ' + device)\n",
    "\n",
    "\n",
    "fig.subplots_adjust(right=0.8)\n",
    "cbar_ax = fig.add_axes([0.85, 0.27, 0.02, 0.45])\n",
    "fig.colorbar(im, cax=cbar_ax)\n",
    "fig.text(0.02, 0.5, 'input features', va='center', rotation='vertical')\n",
    "fig.text(0.5, 0.02, 'output features', ha='center')\n",
    "plt.show()"
   ],
   "metadata": {
    "collapsed": false,
    "pycharm": {
     "name": "#%%\n"
    }
   }
  }
 ],
 "metadata": {
  "kernelspec": {
   "display_name": "Python 3",
   "language": "python",
   "name": "python3"
  },
  "language_info": {
   "codemirror_mode": {
    "name": "ipython",
    "version": 2
   },
   "file_extension": ".py",
   "mimetype": "text/x-python",
   "name": "python",
   "nbconvert_exporter": "python",
   "pygments_lexer": "ipython2",
   "version": "2.7.6"
  }
 },
 "nbformat": 4,
 "nbformat_minor": 0
}